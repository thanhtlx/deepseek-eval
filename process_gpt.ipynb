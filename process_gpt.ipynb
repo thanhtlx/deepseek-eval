{
 "cells": [
  {
   "cell_type": "code",
   "execution_count": 100,
   "metadata": {},
   "outputs": [],
   "source": [
    "\n",
    "import json\n",
    "id_intput = dict()\n",
    "id_output = dict()\n",
    "HEAD = \"I want you to act as a program developer.\\nDo not write any explanations or other words, just reply with the complete function.\"\n",
    "lang = 'java'\n",
    "\n",
    "output_result_file = f'human_eval\\\\{lang}\\\\result_java.jsonl'\n",
    "input_chat_gpt = f'human_eval\\\\{lang}\\\\queue_java_api_xai.jsonl'\n",
    "output_chat_gpt = f'human_eval\\\\{lang}\\\\output_queue_java_api_xai.jsonl'\n",
    "\n",
    "# output_result_file = f'human_eval\\\\{lang}\\\\result_{lang}.jsonl'\n",
    "# input_chat_gpt = f'human_eval\\\\{lang}\\\\queue_api_xai_python_humaneval.jsonl'\n",
    "# output_chat_gpt = f'human_eval\\\\{lang}\\\\output_queue_api_xai_python_humaneval.jsonl'\n",
    "\n",
    "\n",
    "def process_java(source):\n",
    "    source = source.rstrip()\n",
    "    if source.endswith('}'):\n",
    "        source = source[:-1].rstrip()\n",
    "    if source.endswith('}'):\n",
    "        source = source[:-1].rstrip()\n",
    "        \n",
    "    return source\n",
    "\n",
    "with open(input_chat_gpt) as f:\n",
    "    data_input = [json.loads(l.strip()) for l in f.readlines()]\n",
    "    for obj in data_input:\n",
    "        id_intput[obj['custom_id']] = obj['body']['messages'][0]['content'].replace(HEAD,'').strip()\n",
    "with open(output_chat_gpt) as f:\n",
    "    data = [json.loads(l.strip()) for l in f.readlines()]\n",
    "    for obj in data:\n",
    "        source = obj['response']['body']['choices'][0]['message']['content']\n",
    "        id_output[obj['custom_id']] = source\n",
    "result = list()\n",
    "for k,v in id_output.items():\n",
    "    if lang == 'python':\n",
    "        result.append({\n",
    "            'task_id' : k,\n",
    "            'generation' :  v,\n",
    "            'prompt' : id_intput[k],\n",
    "            'function':v\n",
    "        })\n",
    "    else:\n",
    "        # make sure correct code java output\n",
    "        if '```' in v:\n",
    "            v = v.replace('```java','')\n",
    "            v = v.replace('```','')\n",
    "        if 'public static' in v.splitlines()[0]:\n",
    "            v = '\\n'.join(v.splitlines()[1:])\n",
    "        # make sure merge test correct         \n",
    "        vv = process_java(v)\n",
    "        arrs = id_intput[k].splitlines()\n",
    "        index = -1\n",
    "        while 'public static' not in arrs[index]:\n",
    "            index -= 1\n",
    "            \n",
    "        head = '\\n'.join(arrs[index:])\n",
    "        \n",
    "        func = head +'\\n'+ vv + '\\n\\t}\\n}'\n",
    "        if 'class Problem {' not in func:\n",
    "            func = 'class Problem {\\n'+func\n",
    "        \n",
    "        \n",
    "        result.append({\n",
    "            'task_id' : k,\n",
    "            'generation' : id_intput[k] +'\\n' + vv,\n",
    "            'prompt' : id_intput[k],\n",
    "            'function': func,\n",
    "        })\n",
    "with open(output_result_file,'w+') as f:\n",
    "    for obj in result:\n",
    "        f.writelines(json.dumps(obj)+'\\n')\n"
   ]
  },
  {
   "cell_type": "code",
   "execution_count": 101,
   "metadata": {},
   "outputs": [],
   "source": [
    "with open('human_eval\\\\java\\\\result_java.jsonl') as f:\n",
    "    data = [json.loads(l.strip()) for l in f.readlines()]\n",
    "# for obj in data:\n",
    "    "
   ]
  },
  {
   "cell_type": "code",
   "execution_count": 102,
   "metadata": {},
   "outputs": [
    {
     "name": "stdout",
     "output_type": "stream",
     "text": [
      "class Problem {\n",
      "    public static boolean checkDictCase(HashMap<String,String> dict) {\n",
      "    if (dict.isEmpty()) {\n",
      "        return false;\n",
      "    }\n",
      "    \n",
      "    Set<String> keys = dict.keySet();\n",
      "    boolean allLowerCase = keys.stream().allMatch(key -> key.equals(key.toLowerCase()));\n",
      "    boolean allUpperCase = keys.stream().allMatch(key -> key.equals(key.toUpperCase()));\n",
      "    \n",
      "    return allLowerCase || allUpperCase;\n",
      "\t}\n",
      "}\n"
     ]
    }
   ],
   "source": [
    "print(data[2]['function'])"
   ]
  }
 ],
 "metadata": {
  "kernelspec": {
   "display_name": "xai_eval",
   "language": "python",
   "name": "python3"
  },
  "language_info": {
   "codemirror_mode": {
    "name": "ipython",
    "version": 3
   },
   "file_extension": ".py",
   "mimetype": "text/x-python",
   "name": "python",
   "nbconvert_exporter": "python",
   "pygments_lexer": "ipython3",
   "version": "3.12.3"
  }
 },
 "nbformat": 4,
 "nbformat_minor": 2
}
