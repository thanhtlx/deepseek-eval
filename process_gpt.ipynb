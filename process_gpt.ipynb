{
 "cells": [
  {
   "cell_type": "code",
   "execution_count": 30,
   "metadata": {},
   "outputs": [],
   "source": [
    "import json\n",
    "id_intput = dict()\n",
    "id_output = dict()\n",
    "HEAD = \"I want you to act as a program developer.\\nDo not write any explanations or other words, just reply with the complete function.\"\n",
    "lang = 'python'\n",
    "\n",
    "output_result_file = f'human_eval\\\\{lang}\\\\result_java.jsonl'\n",
    "input_chat_gpt = f'human_eval\\\\{lang}\\\\queue_java_api_xai.jsonl'\n",
    "output_chat_gpt = f'human_eval\\\\{lang}\\\\output_queue_java_api_xai.jsonl'\n",
    "\n",
    "output_result_file = f'human_eval\\\\{lang}\\\\result_{lang}.jsonl'\n",
    "input_chat_gpt = f'human_eval\\\\{lang}\\\\queue_api_xai_python_humaneval.jsonl'\n",
    "output_chat_gpt = f'human_eval\\\\{lang}\\\\output_queue_api_xai_python_humaneval.jsonl'\n",
    "\n",
    "\n",
    "def process_java(source):\n",
    "    source = source.strip()\n",
    "    if source.endswith('}'):\n",
    "        source = source[:-1].strip()\n",
    "    if source.endswith('}'):\n",
    "        source = source[:-1].strip()\n",
    "        \n",
    "    return source\n",
    "\n",
    "with open(input_chat_gpt) as f:\n",
    "    data_input = [json.loads(l.strip()) for l in f.readlines()]\n",
    "    for obj in data_input:\n",
    "        id_intput[obj['custom_id']] = obj['body']['messages'][0]['content'].replace(HEAD,'').strip()\n",
    "with open(output_chat_gpt) as f:\n",
    "    data = [json.loads(l.strip()) for l in f.readlines()]\n",
    "    for obj in data:\n",
    "        source = obj['response']['body']['choices'][0]['message']['content']\n",
    "        if lang == 'java':\n",
    "            id_output[obj['custom_id']] = process_java(source)\n",
    "        else:\n",
    "            id_output[obj['custom_id']] = source\n",
    "result = list()\n",
    "for k,v in id_output.items():\n",
    "    if lang == 'python':\n",
    "        result.append({\n",
    "            'task_id' : k,\n",
    "            'generation' :  v,\n",
    "            'prompt' : id_intput[k]\n",
    "        })\n",
    "    else:\n",
    "        result.append({\n",
    "            'task_id' : k,\n",
    "            'generation' : id_intput[k] +'\\n' + v,\n",
    "            'prompt' : id_intput[k]\n",
    "        })\n",
    "with open(output_result_file,'w+') as f:\n",
    "    for obj in result:\n",
    "        f.writelines(json.dumps(obj)+'\\n')\n"
   ]
  },
  {
   "cell_type": "code",
   "execution_count": null,
   "metadata": {},
   "outputs": [],
   "source": [
    "for k,v in id_output.items():\n",
    "    print(id_intput[k])\n",
    "    print(v)"
   ]
  }
 ],
 "metadata": {
  "kernelspec": {
   "display_name": "xai_eval",
   "language": "python",
   "name": "python3"
  },
  "language_info": {
   "codemirror_mode": {
    "name": "ipython",
    "version": 3
   },
   "file_extension": ".py",
   "mimetype": "text/x-python",
   "name": "python",
   "nbconvert_exporter": "python",
   "pygments_lexer": "ipython3",
   "version": "3.12.3"
  }
 },
 "nbformat": 4,
 "nbformat_minor": 2
}
