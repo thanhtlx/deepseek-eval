{
 "cells": [
  {
   "cell_type": "code",
   "execution_count": 5,
   "metadata": {},
   "outputs": [],
   "source": [
    "import json \n",
    "file_path = 'human_eval\\\\java\\\\result_java.json'\n",
    "file_path2 = 'human_eval\\\\java\\\\result_java.jsonl'\n",
    "with open(file_path) as f:\n",
    "    data = json.load(f)\n",
    "with open(file_path2) as f:\n",
    "    source = [json.loads(l.strip()) for l in f.readlines()]"
   ]
  },
  {
   "cell_type": "code",
   "execution_count": 6,
   "metadata": {},
   "outputs": [],
   "source": [
    "result = list()\n",
    "for el in source:\n",
    "    obj = data[el['task_id']][0][1]\n",
    "    result.append({\n",
    "        'task_id':el['task_id'],\n",
    "        'result': obj['result'],\n",
    "        'passed': obj['passed'], \n",
    "        'function': el['function'],\n",
    "        'code': obj['code']        \n",
    "    })\n",
    "import pandas as pd\n",
    "df = pd.DataFrame(result)\n",
    "df.to_csv('human_eval/java/human_eval_chatgpt_java.csv',index=False)"
   ]
  },
  {
   "cell_type": "code",
   "execution_count": 7,
   "metadata": {},
   "outputs": [],
   "source": [
    "# df = pd.read_csv('human_eval/java/human_eval_chatgpt_java.csv')\n"
   ]
  },
  {
   "cell_type": "code",
   "execution_count": 21,
   "metadata": {},
   "outputs": [],
   "source": [
    "import os\n",
    "for _,row in df.iterrows():\n",
    "    rootpath = 'human_eval\\\\python\\\\source'\n",
    "    file_path = os.path.join(rootpath,row['task_id'].replace('/','_')+'.py')\n",
    "    with open(file_path,'w+') as f:\n",
    "        f.write(row['function'])"
   ]
  },
  {
   "cell_type": "code",
   "execution_count": 8,
   "metadata": {},
   "outputs": [],
   "source": [
    "import os\n",
    "for _,row in df.iterrows():\n",
    "    rootpath = 'human_eval\\\\java\\\\source'\n",
    "    file_path = os.path.join(rootpath,row['task_id'].replace('/','_')+'.java')\n",
    "    with open(file_path,'w+') as f:\n",
    "        f.write(row['function'])"
   ]
  }
 ],
 "metadata": {
  "kernelspec": {
   "display_name": "xai_eval",
   "language": "python",
   "name": "python3"
  },
  "language_info": {
   "codemirror_mode": {
    "name": "ipython",
    "version": 3
   },
   "file_extension": ".py",
   "mimetype": "text/x-python",
   "name": "python",
   "nbconvert_exporter": "python",
   "pygments_lexer": "ipython3",
   "version": "3.12.3"
  }
 },
 "nbformat": 4,
 "nbformat_minor": 2
}
