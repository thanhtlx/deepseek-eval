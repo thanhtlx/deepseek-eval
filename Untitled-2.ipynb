{
 "cells": [
  {
   "cell_type": "code",
   "execution_count": 2,
   "metadata": {},
   "outputs": [],
   "source": []
  },
  {
   "cell_type": "code",
   "execution_count": null,
   "metadata": {},
   "outputs": [],
   "source": [
    "\n",
    "from check_compile_java import check_compile_java\n",
    "from tqdm import tqdm\n",
    "import pandas as pd \n",
    "\n",
    "\n",
    "df = pd.read_csv('refactor_human_eval_chatgpt_java.csv')\n",
    "result = list()\n",
    "columns = ['RenameVariable','For2While','While2For','ReverseIf','ReorderParameter','ChangeCondition','RemoveConditionStatement','ChangeOperator','RemoveDefStatement']\n",
    "\n",
    "\n",
    "for _,row in tqdm(df.iterrows()):\n",
    "    for cl in columns:\n",
    "        is_compiable = check_compile_java(row[cl])\n",
    "        row[cl+'CheckCompilable'] = is_compiable\n",
    "    result.append(row)\n",
    "dfs = pd.DataFrame(result)\n",
    "dfs.to_csv('check_refactor_human_eval_chatgpt_java.csv',index=False)"
   ]
  },
  {
   "cell_type": "code",
   "execution_count": 4,
   "metadata": {},
   "outputs": [
    {
     "data": {
      "text/html": [
       "<div>\n",
       "<style scoped>\n",
       "    .dataframe tbody tr th:only-of-type {\n",
       "        vertical-align: middle;\n",
       "    }\n",
       "\n",
       "    .dataframe tbody tr th {\n",
       "        vertical-align: top;\n",
       "    }\n",
       "\n",
       "    .dataframe thead th {\n",
       "        text-align: right;\n",
       "    }\n",
       "</style>\n",
       "<table border=\"1\" class=\"dataframe\">\n",
       "  <thead>\n",
       "    <tr style=\"text-align: right;\">\n",
       "      <th></th>\n",
       "      <th>task_id</th>\n",
       "      <th>result</th>\n",
       "      <th>passed</th>\n",
       "      <th>function</th>\n",
       "      <th>code</th>\n",
       "      <th>RenameVariable</th>\n",
       "      <th>For2While</th>\n",
       "      <th>While2For</th>\n",
       "      <th>ReverseIf</th>\n",
       "      <th>ReorderParameter</th>\n",
       "      <th>ChangeCondition</th>\n",
       "      <th>RemoveConditionStatement</th>\n",
       "      <th>ChangeOperator</th>\n",
       "      <th>RemoveDefStatement</th>\n",
       "    </tr>\n",
       "  </thead>\n",
       "  <tbody>\n",
       "    <tr>\n",
       "      <th>0</th>\n",
       "      <td>HumanEval_23_strlen</td>\n",
       "      <td>passed</td>\n",
       "      <td>True</td>\n",
       "      <td>class Problem {\\n    public static long strlen...</td>\n",
       "      <td>import java.util.*;\\nimport java.lang.reflect....</td>\n",
       "      <td>class Problem {\\n\\tpublic static long strlen(S...</td>\n",
       "      <td>class Problem {\\n    public static long strlen...</td>\n",
       "      <td>class Problem {\\n    public static long strlen...</td>\n",
       "      <td>class Problem {\\n    public static long strlen...</td>\n",
       "      <td>class Problem {\\n\\tpublic static long strlen(S...</td>\n",
       "      <td>class Problem {\\n    public static long strlen...</td>\n",
       "      <td>class Problem {\\n    public static long strlen...</td>\n",
       "      <td>class Problem {\\n    public static long strlen...</td>\n",
       "      <td>class Problem {\\n    public static long strlen...</td>\n",
       "    </tr>\n",
       "  </tbody>\n",
       "</table>\n",
       "</div>"
      ],
      "text/plain": [
       "               task_id  result  passed  \\\n",
       "0  HumanEval_23_strlen  passed    True   \n",
       "\n",
       "                                            function  \\\n",
       "0  class Problem {\\n    public static long strlen...   \n",
       "\n",
       "                                                code  \\\n",
       "0  import java.util.*;\\nimport java.lang.reflect....   \n",
       "\n",
       "                                      RenameVariable  \\\n",
       "0  class Problem {\\n\\tpublic static long strlen(S...   \n",
       "\n",
       "                                           For2While  \\\n",
       "0  class Problem {\\n    public static long strlen...   \n",
       "\n",
       "                                           While2For  \\\n",
       "0  class Problem {\\n    public static long strlen...   \n",
       "\n",
       "                                           ReverseIf  \\\n",
       "0  class Problem {\\n    public static long strlen...   \n",
       "\n",
       "                                    ReorderParameter  \\\n",
       "0  class Problem {\\n\\tpublic static long strlen(S...   \n",
       "\n",
       "                                     ChangeCondition  \\\n",
       "0  class Problem {\\n    public static long strlen...   \n",
       "\n",
       "                            RemoveConditionStatement  \\\n",
       "0  class Problem {\\n    public static long strlen...   \n",
       "\n",
       "                                      ChangeOperator  \\\n",
       "0  class Problem {\\n    public static long strlen...   \n",
       "\n",
       "                                  RemoveDefStatement  \n",
       "0  class Problem {\\n    public static long strlen...  "
      ]
     },
     "execution_count": 4,
     "metadata": {},
     "output_type": "execute_result"
    }
   ],
   "source": [
    "df.head(1)"
   ]
  },
  {
   "cell_type": "code",
   "execution_count": 14,
   "metadata": {},
   "outputs": [
    {
     "data": {
      "text/plain": [
       "Index(['task_id', 'result', 'passed', 'function', 'code', 'RenameVariable',\n",
       "       'For2While', 'While2For', 'ReverseIf', 'ReorderParameter',\n",
       "       'ChangeCondition', 'RemoveConditionStatement', 'ChangeOperator',\n",
       "       'RemoveDefStatement', 'RenameVariableCheckCompilable',\n",
       "       'For2WhileCheckCompilable', 'While2ForCheckCompilable',\n",
       "       'ReverseIfCheckCompilable', 'ReorderParameterCheckCompilable',\n",
       "       'ChangeConditionCheckCompilable',\n",
       "       'RemoveConditionStatementCheckCompilable',\n",
       "       'ChangeOperatorCheckCompilable', 'RemoveDefStatementCheckCompilable'],\n",
       "      dtype='object')"
      ]
     },
     "execution_count": 14,
     "metadata": {},
     "output_type": "execute_result"
    }
   ],
   "source": [
    "import pandas as pd  \n",
    "df = pd.read_csv('check_refactor_human_eval_chatgpt_python.csv')\n",
    "df.columns"
   ]
  },
  {
   "cell_type": "code",
   "execution_count": null,
   "metadata": {},
   "outputs": [],
   "source": []
  },
  {
   "cell_type": "code",
   "execution_count": 17,
   "metadata": {},
   "outputs": [
    {
     "data": {
      "text/plain": [
       "ChangeOperatorCheckCompilable\n",
       "1    163\n",
       "0      1\n",
       "Name: count, dtype: int64"
      ]
     },
     "execution_count": 17,
     "metadata": {},
     "output_type": "execute_result"
    }
   ],
   "source": [
    "df['ChangeOperatorCheckCompilable'].value_counts()"
   ]
  }
 ],
 "metadata": {
  "kernelspec": {
   "display_name": "xai_eval",
   "language": "python",
   "name": "python3"
  },
  "language_info": {
   "codemirror_mode": {
    "name": "ipython",
    "version": 3
   },
   "file_extension": ".py",
   "mimetype": "text/x-python",
   "name": "python",
   "nbconvert_exporter": "python",
   "pygments_lexer": "ipython3",
   "version": "3.12.3"
  }
 },
 "nbformat": 4,
 "nbformat_minor": 2
}
