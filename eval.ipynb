{
 "cells": [
  {
   "cell_type": "code",
   "execution_count": 2,
   "metadata": {},
   "outputs": [],
   "source": [
    "!pip install multiprocess > tmp"
   ]
  },
  {
   "cell_type": "code",
   "execution_count": 1,
   "metadata": {},
   "outputs": [
    {
     "name": "stderr",
     "output_type": "stream",
     "text": [
      "'javac' is not recognized as an internal or external command,\n",
      "operable program or batch file.\n"
     ]
    }
   ],
   "source": [
    "!javac"
   ]
  },
  {
   "cell_type": "code",
   "execution_count": 2,
   "metadata": {},
   "outputs": [
    {
     "name": "stderr",
     "output_type": "stream",
     "text": [
      "c:\\Users\\se\\miniconda3\\envs\\xai_eval\\Lib\\site-packages\\tqdm\\auto.py:21: TqdmWarning: IProgress not found. Please update jupyter and ipywidgets. See https://ipywidgets.readthedocs.io/en/stable/user_install.html\n",
      "  from .autonotebook import tqdm as notebook_tqdm\n"
     ]
    },
    {
     "name": "stdout",
     "output_type": "stream",
     "text": [
      "Reading samples...\n"
     ]
    },
    {
     "name": "stderr",
     "output_type": "stream",
     "text": [
      "100%|██████████| 158/158 [00:00<00:00, 1265.89it/s]\n"
     ]
    },
    {
     "name": "stdout",
     "output_type": "stream",
     "text": [
      "Running test suites...\n"
     ]
    },
    {
     "name": "stderr",
     "output_type": "stream",
     "text": [
      "100%|██████████| 158/158 [00:24<00:00,  6.39it/s]\n"
     ]
    }
   ],
   "source": [
    "import os\n",
    "# os.chdir('Evaluation/HumanEval/')\n",
    "from Evaluation.HumanEval.human_eval.evaluation import evaluate_functional_correctness\n",
    "language = 'java'\n",
    "log_dir='tmp_dir'\n",
    "runlang='java'\n",
    "timeout = 100\n",
    "data_root ='data/'\n",
    "file_res = 'human_eval\\\\java\\\\result_java.jsonl'\n",
    "res = evaluate_functional_correctness(input_file=file_res, problem_file=os.path.join(data_root, f\"humaneval-{language}.jsonl\"), tmp_dir=log_dir, timeout=timeout, language=runlang)\n",
    "# print(\"score is\", res['pass@%d' % k])\n",
    "# os.remove(logfilepath)"
   ]
  }
 ],
 "metadata": {
  "kernelspec": {
   "display_name": "xai_eval",
   "language": "python",
   "name": "python3"
  },
  "language_info": {
   "codemirror_mode": {
    "name": "ipython",
    "version": 3
   },
   "file_extension": ".py",
   "mimetype": "text/x-python",
   "name": "python",
   "nbconvert_exporter": "python",
   "pygments_lexer": "ipython3",
   "version": "3.12.3"
  }
 },
 "nbformat": 4,
 "nbformat_minor": 2
}
